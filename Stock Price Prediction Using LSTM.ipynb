{
 "cells": [
  {
   "cell_type": "code",
   "execution_count": 1,
   "id": "24f684a4",
   "metadata": {},
   "outputs": [],
   "source": [
    "import pandas as pd\n",
    "import numpy as np\n",
    "import matplotlib.pyplot as plt\n",
    "from sklearn.preprocessing import MinMaxScaler\n",
    "from tensorflow.keras.models import Sequential\n",
    "from tensorflow.keras.layers import LSTM, Dense"
   ]
  },
  {
   "cell_type": "code",
   "execution_count": 2,
   "id": "ff51dd5a",
   "metadata": {},
   "outputs": [],
   "source": [
    "data = pd.read_csv('ASIANPAINT.csv')"
   ]
  },
  {
   "cell_type": "code",
   "execution_count": 3,
   "id": "bf8bc1f1",
   "metadata": {},
   "outputs": [],
   "source": [
    "# Extracting the 'Close' prices\n",
    "prices = data['Close'].values.reshape(-1, 1)\n",
    "\n",
    "# Scaling the data\n",
    "scaler = MinMaxScaler(feature_range=(0, 1))\n",
    "scaled_prices = scaler.fit_transform(prices)"
   ]
  },
  {
   "cell_type": "code",
   "execution_count": 4,
   "id": "b9ef7264",
   "metadata": {},
   "outputs": [],
   "source": [
    "training_data_len = int(len(scaled_prices) * 0.8)  # using 80% for training, 20% for testing\n",
    "\n",
    "train_data = scaled_prices[:training_data_len]\n",
    "test_data = scaled_prices[training_data_len:]"
   ]
  },
  {
   "cell_type": "code",
   "execution_count": 5,
   "id": "fe68af93",
   "metadata": {},
   "outputs": [],
   "source": [
    "def create_sequences(data, time_steps):\n",
    "    X, y = [], []\n",
    "    for i in range(len(data) - time_steps):\n",
    "        X.append(data[i:i+time_steps])\n",
    "        y.append(data[i+time_steps])\n",
    "    return np.array(X), np.array(y)\n",
    "\n",
    "time_steps = 25  \n",
    "X_train, y_train = create_sequences(train_data, time_steps)\n",
    "X_test, y_test = create_sequences(test_data, time_steps)"
   ]
  },
  {
   "cell_type": "code",
   "execution_count": 6,
   "id": "cf5159ce",
   "metadata": {},
   "outputs": [
    {
     "name": "stdout",
     "output_type": "stream",
     "text": [
      "Epoch 1/50\n",
      "132/132 [==============================] - 5s 15ms/step - loss: 0.0047\n",
      "Epoch 2/50\n",
      "132/132 [==============================] - 2s 15ms/step - loss: 0.0011\n",
      "Epoch 3/50\n",
      "132/132 [==============================] - 2s 16ms/step - loss: 8.9330e-04\n",
      "Epoch 4/50\n",
      "132/132 [==============================] - 2s 15ms/step - loss: 7.6189e-04\n",
      "Epoch 5/50\n",
      "132/132 [==============================] - 2s 15ms/step - loss: 6.5593e-04\n",
      "Epoch 6/50\n",
      "132/132 [==============================] - 2s 16ms/step - loss: 6.4675e-04\n",
      "Epoch 7/50\n",
      "132/132 [==============================] - 2s 17ms/step - loss: 5.0728e-04\n",
      "Epoch 8/50\n",
      "132/132 [==============================] - 2s 17ms/step - loss: 4.9472e-04\n",
      "Epoch 9/50\n",
      "132/132 [==============================] - 2s 15ms/step - loss: 4.6826e-04\n",
      "Epoch 10/50\n",
      "132/132 [==============================] - 2s 14ms/step - loss: 4.3721e-04\n",
      "Epoch 11/50\n",
      "132/132 [==============================] - 2s 14ms/step - loss: 4.0711e-04\n",
      "Epoch 12/50\n",
      "132/132 [==============================] - 2s 15ms/step - loss: 3.8468e-04\n",
      "Epoch 13/50\n",
      "132/132 [==============================] - 2s 15ms/step - loss: 3.6400e-04\n",
      "Epoch 14/50\n",
      "132/132 [==============================] - 2s 15ms/step - loss: 3.7176e-04\n",
      "Epoch 15/50\n",
      "132/132 [==============================] - 2s 14ms/step - loss: 3.3382e-04\n",
      "Epoch 16/50\n",
      "132/132 [==============================] - 2s 14ms/step - loss: 3.7900e-04\n",
      "Epoch 17/50\n",
      "132/132 [==============================] - 2s 16ms/step - loss: 2.7433e-04\n",
      "Epoch 18/50\n",
      "132/132 [==============================] - 2s 15ms/step - loss: 4.5025e-04\n",
      "Epoch 19/50\n",
      "132/132 [==============================] - 2s 15ms/step - loss: 3.3850e-04\n",
      "Epoch 20/50\n",
      "132/132 [==============================] - 2s 15ms/step - loss: 3.3205e-04\n",
      "Epoch 21/50\n",
      "132/132 [==============================] - 2s 15ms/step - loss: 3.2063e-04\n",
      "Epoch 22/50\n",
      "132/132 [==============================] - 2s 17ms/step - loss: 3.0898e-04\n",
      "Epoch 23/50\n",
      "132/132 [==============================] - 2s 15ms/step - loss: 3.0309e-04\n",
      "Epoch 24/50\n",
      "132/132 [==============================] - 2s 15ms/step - loss: 2.7574e-04\n",
      "Epoch 25/50\n",
      "132/132 [==============================] - 2s 15ms/step - loss: 3.1050e-04\n",
      "Epoch 26/50\n",
      "132/132 [==============================] - 2s 15ms/step - loss: 2.8806e-04\n",
      "Epoch 27/50\n",
      "132/132 [==============================] - 2s 15ms/step - loss: 3.0913e-04\n",
      "Epoch 28/50\n",
      "132/132 [==============================] - 2s 16ms/step - loss: 2.7491e-04\n",
      "Epoch 29/50\n",
      "132/132 [==============================] - 3s 20ms/step - loss: 2.8960e-04\n",
      "Epoch 30/50\n",
      "132/132 [==============================] - 2s 17ms/step - loss: 2.7211e-04\n",
      "Epoch 31/50\n",
      "132/132 [==============================] - 2s 15ms/step - loss: 2.8882e-04\n",
      "Epoch 32/50\n",
      "132/132 [==============================] - 2s 15ms/step - loss: 2.8272e-04\n",
      "Epoch 33/50\n",
      "132/132 [==============================] - 2s 15ms/step - loss: 3.1732e-04\n",
      "Epoch 34/50\n",
      "132/132 [==============================] - 2s 15ms/step - loss: 3.0128e-04\n",
      "Epoch 35/50\n",
      "132/132 [==============================] - 2s 15ms/step - loss: 2.8166e-04\n",
      "Epoch 36/50\n",
      "132/132 [==============================] - 2s 15ms/step - loss: 2.8215e-04\n",
      "Epoch 37/50\n",
      "132/132 [==============================] - 2s 16ms/step - loss: 2.8607e-04\n",
      "Epoch 38/50\n",
      "132/132 [==============================] - 2s 15ms/step - loss: 3.0862e-04\n",
      "Epoch 39/50\n",
      "132/132 [==============================] - 2s 15ms/step - loss: 2.8701e-04\n",
      "Epoch 40/50\n",
      "132/132 [==============================] - 2s 15ms/step - loss: 2.8615e-04\n",
      "Epoch 41/50\n",
      "132/132 [==============================] - 2s 15ms/step - loss: 2.7187e-04\n",
      "Epoch 42/50\n",
      "132/132 [==============================] - 2s 15ms/step - loss: 2.9443e-04\n",
      "Epoch 43/50\n",
      "132/132 [==============================] - 2s 16ms/step - loss: 2.7424e-04\n",
      "Epoch 44/50\n",
      "132/132 [==============================] - 2s 15ms/step - loss: 2.8896e-04\n",
      "Epoch 45/50\n",
      "132/132 [==============================] - 2s 15ms/step - loss: 2.7926e-04\n",
      "Epoch 46/50\n",
      "132/132 [==============================] - 2s 15ms/step - loss: 2.7851e-04\n",
      "Epoch 47/50\n",
      "132/132 [==============================] - 2s 15ms/step - loss: 3.0135e-04\n",
      "Epoch 48/50\n",
      "132/132 [==============================] - 2s 15ms/step - loss: 2.7708e-04\n",
      "Epoch 49/50\n",
      "132/132 [==============================] - 2s 15ms/step - loss: 2.6853e-04\n",
      "Epoch 50/50\n",
      "132/132 [==============================] - 2s 15ms/step - loss: 2.8319e-04\n"
     ]
    },
    {
     "data": {
      "text/plain": [
       "<keras.callbacks.History at 0x25309c832e0>"
      ]
     },
     "execution_count": 6,
     "metadata": {},
     "output_type": "execute_result"
    }
   ],
   "source": [
    "model = Sequential()\n",
    "model.add(LSTM(50, return_sequences=True, input_shape=(time_steps, 1)))\n",
    "model.add(LSTM(50))\n",
    "model.add(Dense(1))\n",
    "model.compile(optimizer='adam', loss='mean_squared_error')\n",
    "model.fit(X_train, y_train, epochs=50, batch_size=32)"
   ]
  },
  {
   "cell_type": "code",
   "execution_count": 7,
   "id": "81e1f3df",
   "metadata": {},
   "outputs": [
    {
     "name": "stdout",
     "output_type": "stream",
     "text": [
      "33/33 [==============================] - 1s 6ms/step\n"
     ]
    }
   ],
   "source": [
    "predictions = model.predict(X_test)\n",
    "predictions = scaler.inverse_transform(predictions)"
   ]
  },
  {
   "cell_type": "code",
   "execution_count": 8,
   "id": "db8f0f5f",
   "metadata": {},
   "outputs": [
    {
     "name": "stdout",
     "output_type": "stream",
     "text": [
      "Root Mean Squared Error: 1619.515142806659\n"
     ]
    }
   ],
   "source": [
    "rmse = np.sqrt(np.mean((predictions - y_test) ** 2))\n",
    "print('Root Mean Squared Error:', rmse)"
   ]
  },
  {
   "cell_type": "code",
   "execution_count": 9,
   "id": "a2fac000",
   "metadata": {},
   "outputs": [
    {
     "data": {
      "image/png": "[encoded data removed]",
      "text/plain": [
       "<Figure size 1152x576 with 1 Axes>"
      ]
     },
     "metadata": {
      "needs_background": "light"
     },
     "output_type": "display_data"
    }
   ],
   "source": [
    "plt.figure(figsize=(16, 8))\n",
    "plt.title('Stock Price Prediction')\n",
    "plt.xlabel('Date')\n",
    "plt.ylabel('Close Price')\n",
    "plt.plot(data['Close'], label='Actual')\n",
    "plt.plot(range(training_data_len + time_steps, len(data)), predictions, label='Predicted')\n",
    "plt.legend()\n",
    "plt.show()"
   ]
  },
  {
   "cell_type": "code",
   "execution_count": null,
   "id": "4572d717",
   "metadata": {},
   "outputs": [],
   "source": []
  }
 ],
 "metadata": {
  "kernelspec": {
   "display_name": "Python 3 (ipykernel)",
   "language": "python",
   "name": "python3"
  },
  "language_info": {
   "codemirror_mode": {
    "name": "ipython",
    "version": 3
   },
   "file_extension": ".py",
   "mimetype": "text/x-python",
   "name": "python",
   "nbconvert_exporter": "python",
   "pygments_lexer": "ipython3",
   "version": "3.10.0"
  }
 },
 "nbformat": 4,
 "nbformat_minor": 5
}
